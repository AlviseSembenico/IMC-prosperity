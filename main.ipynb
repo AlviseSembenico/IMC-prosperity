{
 "cells": [
  {
   "cell_type": "code",
   "execution_count": 4,
   "metadata": {},
   "outputs": [],
   "source": [
    "import pandas as pd\n",
    "import numpy as np\n",
    "from sklearn.linear_model import LinearRegression\n",
    "import matplotlib.pyplot as plt"
   ]
  },
  {
   "cell_type": "code",
   "execution_count": 5,
   "metadata": {},
   "outputs": [
    {
     "data": {
      "text/html": [
       "<div>\n",
       "<style scoped>\n",
       "    .dataframe tbody tr th:only-of-type {\n",
       "        vertical-align: middle;\n",
       "    }\n",
       "\n",
       "    .dataframe tbody tr th {\n",
       "        vertical-align: top;\n",
       "    }\n",
       "\n",
       "    .dataframe thead th {\n",
       "        text-align: right;\n",
       "    }\n",
       "</style>\n",
       "<table border=\"1\" class=\"dataframe\">\n",
       "  <thead>\n",
       "    <tr style=\"text-align: right;\">\n",
       "      <th></th>\n",
       "      <th>day</th>\n",
       "      <th>timestamp</th>\n",
       "      <th>product</th>\n",
       "      <th>bid_price_1</th>\n",
       "      <th>bid_volume_1</th>\n",
       "      <th>bid_price_2</th>\n",
       "      <th>bid_volume_2</th>\n",
       "      <th>bid_price_3</th>\n",
       "      <th>bid_volume_3</th>\n",
       "      <th>ask_price_1</th>\n",
       "      <th>ask_volume_1</th>\n",
       "      <th>ask_price_2</th>\n",
       "      <th>ask_volume_2</th>\n",
       "      <th>ask_price_3</th>\n",
       "      <th>ask_volume_3</th>\n",
       "      <th>mid_price</th>\n",
       "      <th>profit_and_loss</th>\n",
       "    </tr>\n",
       "  </thead>\n",
       "  <tbody>\n",
       "    <tr>\n",
       "      <th>0</th>\n",
       "      <td>-2</td>\n",
       "      <td>0</td>\n",
       "      <td>AMETHYSTS</td>\n",
       "      <td>10002</td>\n",
       "      <td>1</td>\n",
       "      <td>9996.0</td>\n",
       "      <td>2.0</td>\n",
       "      <td>9995.0</td>\n",
       "      <td>29.0</td>\n",
       "      <td>10004</td>\n",
       "      <td>2</td>\n",
       "      <td>10005.0</td>\n",
       "      <td>29.0</td>\n",
       "      <td>NaN</td>\n",
       "      <td>NaN</td>\n",
       "      <td>10003.0</td>\n",
       "      <td>0.000000</td>\n",
       "    </tr>\n",
       "    <tr>\n",
       "      <th>1</th>\n",
       "      <td>-2</td>\n",
       "      <td>0</td>\n",
       "      <td>STARFRUIT</td>\n",
       "      <td>5002</td>\n",
       "      <td>1</td>\n",
       "      <td>4997.0</td>\n",
       "      <td>31.0</td>\n",
       "      <td>NaN</td>\n",
       "      <td>NaN</td>\n",
       "      <td>5003</td>\n",
       "      <td>31</td>\n",
       "      <td>NaN</td>\n",
       "      <td>NaN</td>\n",
       "      <td>NaN</td>\n",
       "      <td>NaN</td>\n",
       "      <td>5002.5</td>\n",
       "      <td>0.000000</td>\n",
       "    </tr>\n",
       "    <tr>\n",
       "      <th>2</th>\n",
       "      <td>-2</td>\n",
       "      <td>100</td>\n",
       "      <td>AMETHYSTS</td>\n",
       "      <td>9996</td>\n",
       "      <td>2</td>\n",
       "      <td>9995.0</td>\n",
       "      <td>22.0</td>\n",
       "      <td>NaN</td>\n",
       "      <td>NaN</td>\n",
       "      <td>10004</td>\n",
       "      <td>2</td>\n",
       "      <td>10005.0</td>\n",
       "      <td>22.0</td>\n",
       "      <td>NaN</td>\n",
       "      <td>NaN</td>\n",
       "      <td>10000.0</td>\n",
       "      <td>2.000000</td>\n",
       "    </tr>\n",
       "    <tr>\n",
       "      <th>3</th>\n",
       "      <td>-2</td>\n",
       "      <td>100</td>\n",
       "      <td>STARFRUIT</td>\n",
       "      <td>4997</td>\n",
       "      <td>24</td>\n",
       "      <td>NaN</td>\n",
       "      <td>NaN</td>\n",
       "      <td>NaN</td>\n",
       "      <td>NaN</td>\n",
       "      <td>5003</td>\n",
       "      <td>2</td>\n",
       "      <td>5004.0</td>\n",
       "      <td>22.0</td>\n",
       "      <td>NaN</td>\n",
       "      <td>NaN</td>\n",
       "      <td>5000.0</td>\n",
       "      <td>1.925293</td>\n",
       "    </tr>\n",
       "    <tr>\n",
       "      <th>4</th>\n",
       "      <td>-2</td>\n",
       "      <td>200</td>\n",
       "      <td>STARFRUIT</td>\n",
       "      <td>4997</td>\n",
       "      <td>2</td>\n",
       "      <td>4996.0</td>\n",
       "      <td>20.0</td>\n",
       "      <td>NaN</td>\n",
       "      <td>NaN</td>\n",
       "      <td>5003</td>\n",
       "      <td>20</td>\n",
       "      <td>NaN</td>\n",
       "      <td>NaN</td>\n",
       "      <td>NaN</td>\n",
       "      <td>NaN</td>\n",
       "      <td>5000.0</td>\n",
       "      <td>2.134766</td>\n",
       "    </tr>\n",
       "  </tbody>\n",
       "</table>\n",
       "</div>"
      ],
      "text/plain": [
       "   day  timestamp    product  bid_price_1  bid_volume_1  bid_price_2  \\\n",
       "0   -2          0  AMETHYSTS        10002             1       9996.0   \n",
       "1   -2          0  STARFRUIT         5002             1       4997.0   \n",
       "2   -2        100  AMETHYSTS         9996             2       9995.0   \n",
       "3   -2        100  STARFRUIT         4997            24          NaN   \n",
       "4   -2        200  STARFRUIT         4997             2       4996.0   \n",
       "\n",
       "   bid_volume_2  bid_price_3  bid_volume_3  ask_price_1  ask_volume_1  \\\n",
       "0           2.0       9995.0          29.0        10004             2   \n",
       "1          31.0          NaN           NaN         5003            31   \n",
       "2          22.0          NaN           NaN        10004             2   \n",
       "3           NaN          NaN           NaN         5003             2   \n",
       "4          20.0          NaN           NaN         5003            20   \n",
       "\n",
       "   ask_price_2  ask_volume_2  ask_price_3  ask_volume_3  mid_price  \\\n",
       "0      10005.0          29.0          NaN           NaN    10003.0   \n",
       "1          NaN           NaN          NaN           NaN     5002.5   \n",
       "2      10005.0          22.0          NaN           NaN    10000.0   \n",
       "3       5004.0          22.0          NaN           NaN     5000.0   \n",
       "4          NaN           NaN          NaN           NaN     5000.0   \n",
       "\n",
       "   profit_and_loss  \n",
       "0         0.000000  \n",
       "1         0.000000  \n",
       "2         2.000000  \n",
       "3         1.925293  \n",
       "4         2.134766  "
      ]
     },
     "execution_count": 5,
     "metadata": {},
     "output_type": "execute_result"
    }
   ],
   "source": [
    "df = pd.read_csv('data/day0.csv', delimiter=';')\n",
    "products = df['product'].unique()\n",
    "df.head()"
   ]
  },
  {
   "cell_type": "code",
   "execution_count": 6,
   "metadata": {},
   "outputs": [
    {
     "data": {
      "text/html": [
       "<div>\n",
       "<style scoped>\n",
       "    .dataframe tbody tr th:only-of-type {\n",
       "        vertical-align: middle;\n",
       "    }\n",
       "\n",
       "    .dataframe tbody tr th {\n",
       "        vertical-align: top;\n",
       "    }\n",
       "\n",
       "    .dataframe thead th {\n",
       "        text-align: right;\n",
       "    }\n",
       "</style>\n",
       "<table border=\"1\" class=\"dataframe\">\n",
       "  <thead>\n",
       "    <tr style=\"text-align: right;\">\n",
       "      <th></th>\n",
       "      <th>day</th>\n",
       "      <th>timestamp</th>\n",
       "      <th>product</th>\n",
       "      <th>bid_price_1</th>\n",
       "      <th>bid_volume_1</th>\n",
       "      <th>bid_price_2</th>\n",
       "      <th>bid_volume_2</th>\n",
       "      <th>bid_price_3</th>\n",
       "      <th>bid_volume_3</th>\n",
       "      <th>ask_price_1</th>\n",
       "      <th>ask_volume_1</th>\n",
       "      <th>ask_price_2</th>\n",
       "      <th>ask_volume_2</th>\n",
       "      <th>ask_price_3</th>\n",
       "      <th>ask_volume_3</th>\n",
       "      <th>mid_price</th>\n",
       "      <th>profit_and_loss</th>\n",
       "    </tr>\n",
       "  </thead>\n",
       "  <tbody>\n",
       "    <tr>\n",
       "      <th>1</th>\n",
       "      <td>-2</td>\n",
       "      <td>0</td>\n",
       "      <td>STARFRUIT</td>\n",
       "      <td>5002</td>\n",
       "      <td>1</td>\n",
       "      <td>4997.0</td>\n",
       "      <td>31.0</td>\n",
       "      <td>NaN</td>\n",
       "      <td>NaN</td>\n",
       "      <td>5003</td>\n",
       "      <td>31</td>\n",
       "      <td>NaN</td>\n",
       "      <td>NaN</td>\n",
       "      <td>NaN</td>\n",
       "      <td>NaN</td>\n",
       "      <td>5002.5</td>\n",
       "      <td>0.000000</td>\n",
       "    </tr>\n",
       "    <tr>\n",
       "      <th>3</th>\n",
       "      <td>-2</td>\n",
       "      <td>100</td>\n",
       "      <td>STARFRUIT</td>\n",
       "      <td>4997</td>\n",
       "      <td>24</td>\n",
       "      <td>NaN</td>\n",
       "      <td>NaN</td>\n",
       "      <td>NaN</td>\n",
       "      <td>NaN</td>\n",
       "      <td>5003</td>\n",
       "      <td>2</td>\n",
       "      <td>5004.0</td>\n",
       "      <td>22.0</td>\n",
       "      <td>NaN</td>\n",
       "      <td>NaN</td>\n",
       "      <td>5000.0</td>\n",
       "      <td>1.925293</td>\n",
       "    </tr>\n",
       "    <tr>\n",
       "      <th>4</th>\n",
       "      <td>-2</td>\n",
       "      <td>200</td>\n",
       "      <td>STARFRUIT</td>\n",
       "      <td>4997</td>\n",
       "      <td>2</td>\n",
       "      <td>4996.0</td>\n",
       "      <td>20.0</td>\n",
       "      <td>NaN</td>\n",
       "      <td>NaN</td>\n",
       "      <td>5003</td>\n",
       "      <td>20</td>\n",
       "      <td>NaN</td>\n",
       "      <td>NaN</td>\n",
       "      <td>NaN</td>\n",
       "      <td>NaN</td>\n",
       "      <td>5000.0</td>\n",
       "      <td>2.134766</td>\n",
       "    </tr>\n",
       "    <tr>\n",
       "      <th>7</th>\n",
       "      <td>-2</td>\n",
       "      <td>300</td>\n",
       "      <td>STARFRUIT</td>\n",
       "      <td>4996</td>\n",
       "      <td>31</td>\n",
       "      <td>NaN</td>\n",
       "      <td>NaN</td>\n",
       "      <td>NaN</td>\n",
       "      <td>NaN</td>\n",
       "      <td>5003</td>\n",
       "      <td>31</td>\n",
       "      <td>NaN</td>\n",
       "      <td>NaN</td>\n",
       "      <td>NaN</td>\n",
       "      <td>NaN</td>\n",
       "      <td>4999.5</td>\n",
       "      <td>-3.100586</td>\n",
       "    </tr>\n",
       "    <tr>\n",
       "      <th>9</th>\n",
       "      <td>-2</td>\n",
       "      <td>400</td>\n",
       "      <td>STARFRUIT</td>\n",
       "      <td>4995</td>\n",
       "      <td>27</td>\n",
       "      <td>NaN</td>\n",
       "      <td>NaN</td>\n",
       "      <td>NaN</td>\n",
       "      <td>NaN</td>\n",
       "      <td>5002</td>\n",
       "      <td>27</td>\n",
       "      <td>NaN</td>\n",
       "      <td>NaN</td>\n",
       "      <td>NaN</td>\n",
       "      <td>NaN</td>\n",
       "      <td>4998.5</td>\n",
       "      <td>-0.179688</td>\n",
       "    </tr>\n",
       "    <tr>\n",
       "      <th>11</th>\n",
       "      <td>-2</td>\n",
       "      <td>500</td>\n",
       "      <td>STARFRUIT</td>\n",
       "      <td>4996</td>\n",
       "      <td>30</td>\n",
       "      <td>NaN</td>\n",
       "      <td>NaN</td>\n",
       "      <td>NaN</td>\n",
       "      <td>NaN</td>\n",
       "      <td>5003</td>\n",
       "      <td>30</td>\n",
       "      <td>NaN</td>\n",
       "      <td>NaN</td>\n",
       "      <td>NaN</td>\n",
       "      <td>NaN</td>\n",
       "      <td>4999.5</td>\n",
       "      <td>-2.328125</td>\n",
       "    </tr>\n",
       "    <tr>\n",
       "      <th>12</th>\n",
       "      <td>-2</td>\n",
       "      <td>600</td>\n",
       "      <td>STARFRUIT</td>\n",
       "      <td>4999</td>\n",
       "      <td>5</td>\n",
       "      <td>4997.0</td>\n",
       "      <td>6.0</td>\n",
       "      <td>4996.0</td>\n",
       "      <td>25.0</td>\n",
       "      <td>5003</td>\n",
       "      <td>25</td>\n",
       "      <td>NaN</td>\n",
       "      <td>NaN</td>\n",
       "      <td>NaN</td>\n",
       "      <td>NaN</td>\n",
       "      <td>5001.0</td>\n",
       "      <td>-3.693359</td>\n",
       "    </tr>\n",
       "    <tr>\n",
       "      <th>15</th>\n",
       "      <td>-2</td>\n",
       "      <td>700</td>\n",
       "      <td>STARFRUIT</td>\n",
       "      <td>4997</td>\n",
       "      <td>2</td>\n",
       "      <td>4996.0</td>\n",
       "      <td>23.0</td>\n",
       "      <td>NaN</td>\n",
       "      <td>NaN</td>\n",
       "      <td>5003</td>\n",
       "      <td>23</td>\n",
       "      <td>NaN</td>\n",
       "      <td>NaN</td>\n",
       "      <td>NaN</td>\n",
       "      <td>NaN</td>\n",
       "      <td>5000.0</td>\n",
       "      <td>-7.140625</td>\n",
       "    </tr>\n",
       "    <tr>\n",
       "      <th>17</th>\n",
       "      <td>-2</td>\n",
       "      <td>800</td>\n",
       "      <td>STARFRUIT</td>\n",
       "      <td>4997</td>\n",
       "      <td>30</td>\n",
       "      <td>NaN</td>\n",
       "      <td>NaN</td>\n",
       "      <td>NaN</td>\n",
       "      <td>NaN</td>\n",
       "      <td>5003</td>\n",
       "      <td>1</td>\n",
       "      <td>5004.0</td>\n",
       "      <td>29.0</td>\n",
       "      <td>NaN</td>\n",
       "      <td>NaN</td>\n",
       "      <td>5000.0</td>\n",
       "      <td>-15.746094</td>\n",
       "    </tr>\n",
       "    <tr>\n",
       "      <th>19</th>\n",
       "      <td>-2</td>\n",
       "      <td>900</td>\n",
       "      <td>STARFRUIT</td>\n",
       "      <td>4997</td>\n",
       "      <td>23</td>\n",
       "      <td>NaN</td>\n",
       "      <td>NaN</td>\n",
       "      <td>NaN</td>\n",
       "      <td>NaN</td>\n",
       "      <td>5003</td>\n",
       "      <td>1</td>\n",
       "      <td>5004.0</td>\n",
       "      <td>22.0</td>\n",
       "      <td>NaN</td>\n",
       "      <td>NaN</td>\n",
       "      <td>5000.0</td>\n",
       "      <td>-16.859375</td>\n",
       "    </tr>\n",
       "  </tbody>\n",
       "</table>\n",
       "</div>"
      ],
      "text/plain": [
       "    day  timestamp    product  bid_price_1  bid_volume_1  bid_price_2  \\\n",
       "1    -2          0  STARFRUIT         5002             1       4997.0   \n",
       "3    -2        100  STARFRUIT         4997            24          NaN   \n",
       "4    -2        200  STARFRUIT         4997             2       4996.0   \n",
       "7    -2        300  STARFRUIT         4996            31          NaN   \n",
       "9    -2        400  STARFRUIT         4995            27          NaN   \n",
       "11   -2        500  STARFRUIT         4996            30          NaN   \n",
       "12   -2        600  STARFRUIT         4999             5       4997.0   \n",
       "15   -2        700  STARFRUIT         4997             2       4996.0   \n",
       "17   -2        800  STARFRUIT         4997            30          NaN   \n",
       "19   -2        900  STARFRUIT         4997            23          NaN   \n",
       "\n",
       "    bid_volume_2  bid_price_3  bid_volume_3  ask_price_1  ask_volume_1  \\\n",
       "1           31.0          NaN           NaN         5003            31   \n",
       "3            NaN          NaN           NaN         5003             2   \n",
       "4           20.0          NaN           NaN         5003            20   \n",
       "7            NaN          NaN           NaN         5003            31   \n",
       "9            NaN          NaN           NaN         5002            27   \n",
       "11           NaN          NaN           NaN         5003            30   \n",
       "12           6.0       4996.0          25.0         5003            25   \n",
       "15          23.0          NaN           NaN         5003            23   \n",
       "17           NaN          NaN           NaN         5003             1   \n",
       "19           NaN          NaN           NaN         5003             1   \n",
       "\n",
       "    ask_price_2  ask_volume_2  ask_price_3  ask_volume_3  mid_price  \\\n",
       "1           NaN           NaN          NaN           NaN     5002.5   \n",
       "3        5004.0          22.0          NaN           NaN     5000.0   \n",
       "4           NaN           NaN          NaN           NaN     5000.0   \n",
       "7           NaN           NaN          NaN           NaN     4999.5   \n",
       "9           NaN           NaN          NaN           NaN     4998.5   \n",
       "11          NaN           NaN          NaN           NaN     4999.5   \n",
       "12          NaN           NaN          NaN           NaN     5001.0   \n",
       "15          NaN           NaN          NaN           NaN     5000.0   \n",
       "17       5004.0          29.0          NaN           NaN     5000.0   \n",
       "19       5004.0          22.0          NaN           NaN     5000.0   \n",
       "\n",
       "    profit_and_loss  \n",
       "1          0.000000  \n",
       "3          1.925293  \n",
       "4          2.134766  \n",
       "7         -3.100586  \n",
       "9         -0.179688  \n",
       "11        -2.328125  \n",
       "12        -3.693359  \n",
       "15        -7.140625  \n",
       "17       -15.746094  \n",
       "19       -16.859375  "
      ]
     },
     "execution_count": 6,
     "metadata": {},
     "output_type": "execute_result"
    }
   ],
   "source": [
    "df_star = df[df['product'] == products[1]]\n",
    "df_star.head(10)"
   ]
  },
  {
   "cell_type": "code",
   "execution_count": 7,
   "metadata": {},
   "outputs": [
    {
     "data": {
      "text/plain": [
       "[<matplotlib.lines.Line2D at 0x26101009a00>]"
      ]
     },
     "execution_count": 7,
     "metadata": {},
     "output_type": "execute_result"
    },
    {
     "data": {
      "image/png": "[encoded data removed]",
      "text/plain": [
       "<Figure size 640x480 with 1 Axes>"
      ]
     },
     "metadata": {},
     "output_type": "display_data"
    }
   ],
   "source": [
    "product1 = df[df['product'] == products[0]]\n",
    "product2 = df[df['product'] == products[1]]\n",
    "\n",
    "price_product1 = product1[['timestamp','mid_price']]\n",
    "price_product2 = product2[['timestamp','mid_price']]\n",
    "\n",
    "joined = pd.merge(price_product1, price_product2, on='timestamp', how='inner')\n",
    "\n",
    "plt.figure()\n",
    "plt.plot(joined['timestamp'], joined['mid_price_y'])"
   ]
  },
  {
   "cell_type": "code",
   "execution_count": 55,
   "metadata": {},
   "outputs": [
    {
     "data": {
      "text/plain": [
       "[<matplotlib.lines.Line2D at 0x26103d19a00>]"
      ]
     },
     "execution_count": 55,
     "metadata": {},
     "output_type": "execute_result"
    },
    {
     "data": {
      "image/png": "[encoded data removed]",
      "text/plain": [
       "<Figure size 640x480 with 1 Axes>"
      ]
     },
     "metadata": {},
     "output_type": "display_data"
    }
   ],
   "source": [
    "\n",
    "model = LinearRegression()\n",
    "\n",
    "X  = (df_star['timestamp'] /100).values.reshape(-1,1)\n",
    "Y = df_star['mid_price']\n",
    "model = model.fit(X, Y)\n",
    "model.score(X,Y)\n",
    "\n",
    "model.coef_, model.intercept_\n",
    "\n",
    "plt.plot(X,Y)\n",
    "plt.plot(X,model.predict(X))"
   ]
  },
  {
   "cell_type": "code",
   "execution_count": 54,
   "metadata": {},
   "outputs": [
    {
     "data": {
      "text/plain": [
       "((2000, 1), (2000,))"
      ]
     },
     "execution_count": 54,
     "metadata": {},
     "output_type": "execute_result"
    }
   ],
   "source": [
    "X.shape, Y.shape"
   ]
  },
  {
   "cell_type": "code",
   "execution_count": 9,
   "metadata": {},
   "outputs": [
    {
     "data": {
      "text/plain": [
       "count     2000.000000\n",
       "mean     10000.053750\n",
       "std          1.481328\n",
       "min       9996.500000\n",
       "25%      10000.000000\n",
       "50%      10000.000000\n",
       "75%      10000.000000\n",
       "max      10003.500000\n",
       "Name: mid_price_x, dtype: float64"
      ]
     },
     "execution_count": 9,
     "metadata": {},
     "output_type": "execute_result"
    },
    {
     "data": {
      "image/png": "[encoded data removed]",
      "text/plain": [
       "<Figure size 640x480 with 1 Axes>"
      ]
     },
     "metadata": {},
     "output_type": "display_data"
    }
   ],
   "source": [
    "plt.figure()\n",
    "plt.plot(joined['timestamp'], joined['mid_price_x'])\n",
    "joined['mid_price_x'].describe()"
   ]
  },
  {
   "cell_type": "code",
   "execution_count": 18,
   "metadata": {},
   "outputs": [
    {
     "data": {
      "text/html": [
       "<div>\n",
       "<style scoped>\n",
       "    .dataframe tbody tr th:only-of-type {\n",
       "        vertical-align: middle;\n",
       "    }\n",
       "\n",
       "    .dataframe tbody tr th {\n",
       "        vertical-align: top;\n",
       "    }\n",
       "\n",
       "    .dataframe thead tr th {\n",
       "        text-align: left;\n",
       "    }\n",
       "\n",
       "    .dataframe thead tr:last-of-type th {\n",
       "        text-align: right;\n",
       "    }\n",
       "</style>\n",
       "<table border=\"1\" class=\"dataframe\">\n",
       "  <thead>\n",
       "    <tr>\n",
       "      <th></th>\n",
       "      <th>timestamp</th>\n",
       "      <th>mid_price_y</th>\n",
       "    </tr>\n",
       "    <tr>\n",
       "      <th></th>\n",
       "      <th>count</th>\n",
       "      <th>count</th>\n",
       "    </tr>\n",
       "    <tr>\n",
       "      <th>mid_price_x</th>\n",
       "      <th></th>\n",
       "      <th></th>\n",
       "    </tr>\n",
       "  </thead>\n",
       "  <tbody>\n",
       "    <tr>\n",
       "      <th>9996.5</th>\n",
       "      <td>0.0280</td>\n",
       "      <td>0.0280</td>\n",
       "    </tr>\n",
       "    <tr>\n",
       "      <th>9997.0</th>\n",
       "      <td>0.0485</td>\n",
       "      <td>0.0485</td>\n",
       "    </tr>\n",
       "    <tr>\n",
       "      <th>9997.5</th>\n",
       "      <td>0.0050</td>\n",
       "      <td>0.0050</td>\n",
       "    </tr>\n",
       "    <tr>\n",
       "      <th>9998.0</th>\n",
       "      <td>0.0075</td>\n",
       "      <td>0.0075</td>\n",
       "    </tr>\n",
       "    <tr>\n",
       "      <th>9998.5</th>\n",
       "      <td>0.0470</td>\n",
       "      <td>0.0470</td>\n",
       "    </tr>\n",
       "    <tr>\n",
       "      <th>9999.0</th>\n",
       "      <td>0.0860</td>\n",
       "      <td>0.0860</td>\n",
       "    </tr>\n",
       "    <tr>\n",
       "      <th>10000.0</th>\n",
       "      <td>0.5295</td>\n",
       "      <td>0.5295</td>\n",
       "    </tr>\n",
       "    <tr>\n",
       "      <th>10001.0</th>\n",
       "      <td>0.0950</td>\n",
       "      <td>0.0950</td>\n",
       "    </tr>\n",
       "    <tr>\n",
       "      <th>10001.5</th>\n",
       "      <td>0.0510</td>\n",
       "      <td>0.0510</td>\n",
       "    </tr>\n",
       "    <tr>\n",
       "      <th>10002.0</th>\n",
       "      <td>0.0095</td>\n",
       "      <td>0.0095</td>\n",
       "    </tr>\n",
       "    <tr>\n",
       "      <th>10002.5</th>\n",
       "      <td>0.0050</td>\n",
       "      <td>0.0050</td>\n",
       "    </tr>\n",
       "    <tr>\n",
       "      <th>10003.0</th>\n",
       "      <td>0.0595</td>\n",
       "      <td>0.0595</td>\n",
       "    </tr>\n",
       "    <tr>\n",
       "      <th>10003.5</th>\n",
       "      <td>0.0285</td>\n",
       "      <td>0.0285</td>\n",
       "    </tr>\n",
       "  </tbody>\n",
       "</table>\n",
       "</div>"
      ],
      "text/plain": [
       "            timestamp mid_price_y\n",
       "                count       count\n",
       "mid_price_x                      \n",
       "9996.5         0.0280      0.0280\n",
       "9997.0         0.0485      0.0485\n",
       "9997.5         0.0050      0.0050\n",
       "9998.0         0.0075      0.0075\n",
       "9998.5         0.0470      0.0470\n",
       "9999.0         0.0860      0.0860\n",
       "10000.0        0.5295      0.5295\n",
       "10001.0        0.0950      0.0950\n",
       "10001.5        0.0510      0.0510\n",
       "10002.0        0.0095      0.0095\n",
       "10002.5        0.0050      0.0050\n",
       "10003.0        0.0595      0.0595\n",
       "10003.5        0.0285      0.0285"
      ]
     },
     "execution_count": 18,
     "metadata": {},
     "output_type": "execute_result"
    },
    {
     "data": {
      "image/png": "[encoded data removed]",
      "text/plain": [
       "<Figure size 640x480 with 1 Axes>"
      ]
     },
     "metadata": {},
     "output_type": "display_data"
    }
   ],
   "source": [
    "joined['mid_price_x'].plot.hist(bins=100)\n",
    "joined.groupby(['mid_price_x']).agg(['count'])/len(joined)"
   ]
  },
  {
   "cell_type": "code",
   "execution_count": 17,
   "metadata": {},
   "outputs": [],
   "source": [
    "model = LinearRegression()\n",
    "x = joined['mid_price_x'].values.reshape(-1, 1)\n",
    "y = joined['mid_price_y'].values.reshape(-1, 1)\n",
    "\n",
    "model = model.fit(y, x)"
   ]
  },
  {
   "cell_type": "code",
   "execution_count": 21,
   "metadata": {},
   "outputs": [
    {
     "data": {
      "text/plain": [
       "(array([9981.67681914]), array([[0.00368992]]))"
      ]
     },
     "execution_count": 21,
     "metadata": {},
     "output_type": "execute_result"
    }
   ],
   "source": [
    "model.intercept_, model.coef_"
   ]
  },
  {
   "cell_type": "code",
   "execution_count": 37,
   "metadata": {},
   "outputs": [
    {
     "data": {
      "text/plain": [
       "((1980, 9), (1980, 10))"
      ]
     },
     "execution_count": 37,
     "metadata": {},
     "output_type": "execute_result"
    }
   ],
   "source": [
    "from sklearn.linear_model import LinearRegression\n",
    "\n",
    "\n",
    "Y = joined['mid_price_y']\n",
    "Y = df_star['bid_price_1']\n",
    "X = []\n",
    "y = []\n",
    "for i in range(len(Y)):\n",
    "    x = Y[i-10:i-1]\n",
    "    # x[i:] = 0\n",
    "    X.append(x)\n",
    "    y.append(Y[i:i+10])\n",
    "X = np.array(X[10:-10])\n",
    "Y = np.array(y[10:-10])\n",
    "\n",
    "X.shape, Y.shape"
   ]
  },
  {
   "cell_type": "code",
   "execution_count": 16,
   "metadata": {},
   "outputs": [
    {
     "data": {
      "text/plain": [
       "(array([5002, 4997, 4997, 4996, 4995, 4996, 4999, 4997, 4997], dtype=int64),\n",
       " array([[4996, 4998, 4997, ..., 4997, 4997, 4997],\n",
       "        [4998, 4997, 4997, ..., 4997, 4997, 4996],\n",
       "        [4997, 4997, 4997, ..., 4997, 4996, 4997],\n",
       "        ...,\n",
       "        [4949, 4948, 4949, ..., 4949, 4949, 4949],\n",
       "        [4948, 4949, 4948, ..., 4949, 4949, 4949],\n",
       "        [4949, 4948, 4948, ..., 4949, 4949, 4949]], dtype=int64))"
      ]
     },
     "execution_count": 16,
     "metadata": {},
     "output_type": "execute_result"
    }
   ],
   "source": [
    "X[0], Y"
   ]
  },
  {
   "cell_type": "code",
   "execution_count": 38,
   "metadata": {},
   "outputs": [],
   "source": [
    "X = (X - X.mean()) / X.max() \n",
    "Y= (Y - Y.mean()) / Y.max()"
   ]
  },
  {
   "cell_type": "code",
   "execution_count": 28,
   "metadata": {},
   "outputs": [
    {
     "data": {
      "text/plain": [
       "((1980, 9), (1980, 10))"
      ]
     },
     "execution_count": 28,
     "metadata": {},
     "output_type": "execute_result"
    }
   ],
   "source": [
    "X.shape, Y.shape"
   ]
  },
  {
   "cell_type": "code",
   "execution_count": 39,
   "metadata": {},
   "outputs": [
    {
     "data": {
      "text/plain": [
       "0.9824344882629887"
      ]
     },
     "execution_count": 39,
     "metadata": {},
     "output_type": "execute_result"
    }
   ],
   "source": [
    "model = LinearRegression().fit(X, Y)\n",
    "model.score(X,Y)"
   ]
  },
  {
   "cell_type": "code",
   "execution_count": 40,
   "metadata": {},
   "outputs": [
    {
     "data": {
      "text/plain": [
       "(array([[0.00386263, 0.00381256, 0.00382966, 0.00380978, 0.00380414,\n",
       "         0.00379082, 0.00385071, 0.00385213, 0.00381045, 0.00381682]]),\n",
       " array([0.00468787, 0.00368847, 0.00348859, 0.00368847, 0.00368847,\n",
       "        0.00348859, 0.00348859, 0.00348859, 0.00348859, 0.00368847]))"
      ]
     },
     "execution_count": 40,
     "metadata": {},
     "output_type": "execute_result"
    }
   ],
   "source": [
    "model.predict([X[167]]), Y[167]"
   ]
  },
  {
   "cell_type": "code",
   "execution_count": 47,
   "metadata": {},
   "outputs": [
    {
     "data": {
      "text/plain": [
       "array([4998.5, 5001. , 4999.5, 5000. , 5000. , 4999.5, 4998.5, 4999.5,\n",
       "       5000. ])"
      ]
     },
     "execution_count": 47,
     "metadata": {},
     "output_type": "execute_result"
    }
   ],
   "source": [
    "X[10]"
   ]
  },
  {
   "cell_type": "code",
   "execution_count": 69,
   "metadata": {},
   "outputs": [
    {
     "data": {
      "text/plain": [
       "(array([0.08318381, 0.08184419, 0.052289  , 0.06817514, 0.0789269 ,\n",
       "        0.11973523, 0.12258035, 0.18677331, 0.2070171 ]),\n",
       " -2.7332801915326854)"
      ]
     },
     "execution_count": 69,
     "metadata": {},
     "output_type": "execute_result"
    }
   ],
   "source": [
    "# co = np.abs(model.coef_)\n",
    "# co = -np.sort(-co)\n",
    "# co[:1000]\n",
    "model.coef_, model.intercept_"
   ]
  }
 ],
 "metadata": {
  "kernelspec": {
   "display_name": "prosperity",
   "language": "python",
   "name": "python3"
  },
  "language_info": {
   "codemirror_mode": {
    "name": "ipython",
    "version": 3
   },
   "file_extension": ".py",
   "mimetype": "text/x-python",
   "name": "python",
   "nbconvert_exporter": "python",
   "pygments_lexer": "ipython3",
   "version": "3.12.2"
  }
 },
 "nbformat": 4,
 "nbformat_minor": 2
}
