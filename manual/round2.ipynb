{
 "cells": [
  {
   "cell_type": "code",
   "execution_count": 11,
   "metadata": {},
   "outputs": [
    {
     "name": "stdout",
     "output_type": "stream",
     "text": [
      "max_value: 1.0569693888, max_path: (0, 1, 3, 0)\n"
     ]
    }
   ],
   "source": [
    "import itertools\n",
    "import numpy as np\n",
    "\n",
    "x = [0,1,2,3]\n",
    "data = [\n",
    "    [1, 0.48, 1.52, 0.71],\n",
    "    [2.05, 1, 3.26, 1.56],\n",
    "    [0.64, 0.3, 1, 0.46],\n",
    "    [1.41, 0.61, 2.08, 1]\n",
    "]\n",
    "matrix = np.array(data)\n",
    "\n",
    "def payoff(x, matrix):\n",
    "    res = 1\n",
    "    p = 3\n",
    "    for xi in x:\n",
    "        res *= matrix[p, xi]\n",
    "        p = xi\n",
    "    res *= matrix[p, 3]\n",
    "    return res\n",
    "\n",
    "max_value  = 0\n",
    "max_path = []\n",
    "for sequence in  itertools.product(x, repeat=4):\n",
    "    value = payoff(sequence, matrix)\n",
    "    if value > max_value:\n",
    "        max_value = value\n",
    "        max_path = sequence\n",
    "        \n",
    "print(f\"max_value: {max_value}, max_path: {max_path}\")"
   ]
  }
 ],
 "metadata": {
  "kernelspec": {
   "display_name": "prosperity",
   "language": "python",
   "name": "python3"
  },
  "language_info": {
   "codemirror_mode": {
    "name": "ipython",
    "version": 3
   },
   "file_extension": ".py",
   "mimetype": "text/x-python",
   "name": "python",
   "nbconvert_exporter": "python",
   "pygments_lexer": "ipython3",
   "version": "3.12.2"
  }
 },
 "nbformat": 4,
 "nbformat_minor": 2
}
